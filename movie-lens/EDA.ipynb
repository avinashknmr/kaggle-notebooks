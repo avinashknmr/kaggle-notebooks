{
 "nbformat": 4,
 "nbformat_minor": 2,
 "metadata": {
  "language_info": {
   "name": "python",
   "codemirror_mode": {
    "name": "ipython",
    "version": 3
   },
   "version": "3.8.1-final"
  },
  "orig_nbformat": 2,
  "file_extension": ".py",
  "mimetype": "text/x-python",
  "name": "python",
  "npconvert_exporter": "python",
  "pygments_lexer": "ipython3",
  "version": 3,
  "kernelspec": {
   "name": "python38164bit381pyenvc9974b7b5192495abc2d82c1e464bbdf",
   "display_name": "Python 3.8.1 64-bit ('3.8.1': pyenv)"
  }
 },
 "cells": [
  {
   "cell_type": "code",
   "execution_count": 1,
   "metadata": {},
   "outputs": [],
   "source": [
    "import pandas as pd\n",
    "import numpy as np\n",
    "import matplotlib.pyplot as plt\n",
    "import seaborn as sns\n",
    "%matplotlib inline"
   ]
  },
  {
   "cell_type": "code",
   "execution_count": 2,
   "metadata": {},
   "outputs": [
    {
     "name": "stdout",
     "output_type": "stream",
     "text": "rating with shape (20000263, 4)\ntag with shape (465564, 4)\ngenome_scores with shape (11709768, 3)\ngenome_tags with shape (1128, 2)\nlink with shape (27278, 3)\nmovie with shape (27278, 3)\n"
    }
   ],
   "source": [
    "import glob\n",
    "df = {}\n",
    "for file in glob.glob('*.csv'):\n",
    "    name = file.split('.')[0]\n",
    "    df[name] = pd.read_csv(file)\n",
    "    print('{0} with shape {1}'.format(name, df[name].shape))"
   ]
  },
  {
   "cell_type": "code",
   "execution_count": 3,
   "metadata": {},
   "outputs": [
    {
     "data": {
      "text/html": "<div>\n<style scoped>\n    .dataframe tbody tr th:only-of-type {\n        vertical-align: middle;\n    }\n\n    .dataframe tbody tr th {\n        vertical-align: top;\n    }\n\n    .dataframe thead th {\n        text-align: right;\n    }\n</style>\n<table border=\"1\" class=\"dataframe\">\n  <thead>\n    <tr style=\"text-align: right;\">\n      <th></th>\n      <th>movieId</th>\n      <th>tagId</th>\n      <th>relevance</th>\n    </tr>\n  </thead>\n  <tbody>\n    <tr>\n      <th>0</th>\n      <td>1</td>\n      <td>1</td>\n      <td>0.02500</td>\n    </tr>\n    <tr>\n      <th>1</th>\n      <td>1</td>\n      <td>2</td>\n      <td>0.02500</td>\n    </tr>\n    <tr>\n      <th>2</th>\n      <td>1</td>\n      <td>3</td>\n      <td>0.05775</td>\n    </tr>\n    <tr>\n      <th>3</th>\n      <td>1</td>\n      <td>4</td>\n      <td>0.09675</td>\n    </tr>\n    <tr>\n      <th>4</th>\n      <td>1</td>\n      <td>5</td>\n      <td>0.14675</td>\n    </tr>\n  </tbody>\n</table>\n</div>",
      "text/plain": "   movieId  tagId  relevance\n0        1      1    0.02500\n1        1      2    0.02500\n2        1      3    0.05775\n3        1      4    0.09675\n4        1      5    0.14675"
     },
     "execution_count": 3,
     "metadata": {},
     "output_type": "execute_result"
    }
   ],
   "source": [
    "df['genome_scores'].head()"
   ]
  },
  {
   "cell_type": "code",
   "execution_count": 4,
   "metadata": {},
   "outputs": [],
   "source": [
    "movie_tag_scores = df['genome_scores'].merge(df['genome_tags'], on='tagId')"
   ]
  },
  {
   "cell_type": "code",
   "execution_count": 5,
   "metadata": {},
   "outputs": [
    {
     "data": {
      "text/html": "<div>\n<style scoped>\n    .dataframe tbody tr th:only-of-type {\n        vertical-align: middle;\n    }\n\n    .dataframe tbody tr th {\n        vertical-align: top;\n    }\n\n    .dataframe thead th {\n        text-align: right;\n    }\n</style>\n<table border=\"1\" class=\"dataframe\">\n  <thead>\n    <tr style=\"text-align: right;\">\n      <th></th>\n      <th>userId</th>\n      <th>movieId</th>\n      <th>tag</th>\n      <th>timestamp</th>\n      <th>tagId</th>\n      <th>relevance</th>\n    </tr>\n  </thead>\n  <tbody>\n    <tr>\n      <th>0</th>\n      <td>18</td>\n      <td>4141</td>\n      <td>Mark Waters</td>\n      <td>2009-04-24 18:19:40</td>\n      <td>NaN</td>\n      <td>NaN</td>\n    </tr>\n    <tr>\n      <th>1</th>\n      <td>65</td>\n      <td>208</td>\n      <td>dark hero</td>\n      <td>2013-05-10 01:41:18</td>\n      <td>288.0</td>\n      <td>0.94950</td>\n    </tr>\n    <tr>\n      <th>2</th>\n      <td>65</td>\n      <td>353</td>\n      <td>dark hero</td>\n      <td>2013-05-10 01:41:19</td>\n      <td>288.0</td>\n      <td>0.99800</td>\n    </tr>\n    <tr>\n      <th>3</th>\n      <td>65</td>\n      <td>521</td>\n      <td>noir thriller</td>\n      <td>2013-05-10 01:39:43</td>\n      <td>712.0</td>\n      <td>0.98900</td>\n    </tr>\n    <tr>\n      <th>4</th>\n      <td>65</td>\n      <td>592</td>\n      <td>dark hero</td>\n      <td>2013-05-10 01:41:18</td>\n      <td>288.0</td>\n      <td>0.99775</td>\n    </tr>\n  </tbody>\n</table>\n</div>",
      "text/plain": "   userId  movieId            tag            timestamp  tagId  relevance\n0      18     4141    Mark Waters  2009-04-24 18:19:40    NaN        NaN\n1      65      208      dark hero  2013-05-10 01:41:18  288.0    0.94950\n2      65      353      dark hero  2013-05-10 01:41:19  288.0    0.99800\n3      65      521  noir thriller  2013-05-10 01:39:43  712.0    0.98900\n4      65      592      dark hero  2013-05-10 01:41:18  288.0    0.99775"
     },
     "execution_count": 5,
     "metadata": {},
     "output_type": "execute_result"
    }
   ],
   "source": [
    "user_tag_scores = df['tag'].merge(movie_tag_scores, how='left', on=['movieId', 'tag']).head()\n",
    "user_tag_scores.head()"
   ]
  },
  {
   "cell_type": "code",
   "execution_count": 6,
   "metadata": {},
   "outputs": [
    {
     "data": {
      "text/html": "<div>\n<style scoped>\n    .dataframe tbody tr th:only-of-type {\n        vertical-align: middle;\n    }\n\n    .dataframe tbody tr th {\n        vertical-align: top;\n    }\n\n    .dataframe thead th {\n        text-align: right;\n    }\n</style>\n<table border=\"1\" class=\"dataframe\">\n  <thead>\n    <tr style=\"text-align: right;\">\n      <th></th>\n      <th>userId</th>\n      <th>movieId</th>\n      <th>rating</th>\n      <th>timestamp</th>\n    </tr>\n  </thead>\n  <tbody>\n    <tr>\n      <th>0</th>\n      <td>1</td>\n      <td>2</td>\n      <td>3.5</td>\n      <td>2005-04-02 23:53:47</td>\n    </tr>\n    <tr>\n      <th>1</th>\n      <td>1</td>\n      <td>29</td>\n      <td>3.5</td>\n      <td>2005-04-02 23:31:16</td>\n    </tr>\n    <tr>\n      <th>2</th>\n      <td>1</td>\n      <td>32</td>\n      <td>3.5</td>\n      <td>2005-04-02 23:33:39</td>\n    </tr>\n    <tr>\n      <th>3</th>\n      <td>1</td>\n      <td>47</td>\n      <td>3.5</td>\n      <td>2005-04-02 23:32:07</td>\n    </tr>\n    <tr>\n      <th>4</th>\n      <td>1</td>\n      <td>50</td>\n      <td>3.5</td>\n      <td>2005-04-02 23:29:40</td>\n    </tr>\n  </tbody>\n</table>\n</div>",
      "text/plain": "   userId  movieId  rating            timestamp\n0       1        2     3.5  2005-04-02 23:53:47\n1       1       29     3.5  2005-04-02 23:31:16\n2       1       32     3.5  2005-04-02 23:33:39\n3       1       47     3.5  2005-04-02 23:32:07\n4       1       50     3.5  2005-04-02 23:29:40"
     },
     "execution_count": 6,
     "metadata": {},
     "output_type": "execute_result"
    }
   ],
   "source": [
    "user_ratings = df['rating']\n",
    "user_ratings.head()"
   ]
  },
  {
   "cell_type": "code",
   "execution_count": 7,
   "metadata": {},
   "outputs": [
    {
     "data": {
      "text/plain": "['Adventure',\n 'Horror',\n 'Film-Noir',\n 'Action',\n 'Comedy',\n 'Western',\n 'Fantasy',\n 'IMAX',\n 'Drama',\n 'Musical',\n 'Documentary',\n 'Animation',\n 'NA',\n 'Mystery',\n 'Romance',\n 'War',\n 'Sci-Fi',\n 'Children',\n 'Crime',\n 'Thriller']"
     },
     "execution_count": 7,
     "metadata": {},
     "output_type": "execute_result"
    }
   ],
   "source": [
    "genres = list(set('|'.join(df['movie'].genres).split('|')))\n",
    "genres = [x if x!='(no genres listed)' else 'NA' for x in genres]\n",
    "genres"
   ]
  },
  {
   "cell_type": "code",
   "execution_count": 8,
   "metadata": {},
   "outputs": [
    {
     "data": {
      "text/html": "<div>\n<style scoped>\n    .dataframe tbody tr th:only-of-type {\n        vertical-align: middle;\n    }\n\n    .dataframe tbody tr th {\n        vertical-align: top;\n    }\n\n    .dataframe thead th {\n        text-align: right;\n    }\n</style>\n<table border=\"1\" class=\"dataframe\">\n  <thead>\n    <tr style=\"text-align: right;\">\n      <th></th>\n      <th>movieId</th>\n      <th>title</th>\n      <th>Adventure</th>\n      <th>Horror</th>\n      <th>Film-Noir</th>\n      <th>Action</th>\n      <th>Comedy</th>\n      <th>Western</th>\n      <th>Fantasy</th>\n      <th>IMAX</th>\n      <th>...</th>\n      <th>Animation</th>\n      <th>NA</th>\n      <th>Mystery</th>\n      <th>Romance</th>\n      <th>War</th>\n      <th>Sci-Fi</th>\n      <th>Children</th>\n      <th>Crime</th>\n      <th>Thriller</th>\n      <th>year</th>\n    </tr>\n  </thead>\n  <tbody>\n    <tr>\n      <th>0</th>\n      <td>1</td>\n      <td>Toy Story</td>\n      <td>1</td>\n      <td>0</td>\n      <td>0</td>\n      <td>0</td>\n      <td>1</td>\n      <td>0</td>\n      <td>1</td>\n      <td>0</td>\n      <td>...</td>\n      <td>1</td>\n      <td>0</td>\n      <td>0</td>\n      <td>0</td>\n      <td>0</td>\n      <td>0</td>\n      <td>1</td>\n      <td>0</td>\n      <td>0</td>\n      <td>1995</td>\n    </tr>\n    <tr>\n      <th>1</th>\n      <td>2</td>\n      <td>Jumanji</td>\n      <td>1</td>\n      <td>0</td>\n      <td>0</td>\n      <td>0</td>\n      <td>0</td>\n      <td>0</td>\n      <td>1</td>\n      <td>0</td>\n      <td>...</td>\n      <td>0</td>\n      <td>0</td>\n      <td>0</td>\n      <td>0</td>\n      <td>0</td>\n      <td>0</td>\n      <td>1</td>\n      <td>0</td>\n      <td>0</td>\n      <td>1995</td>\n    </tr>\n    <tr>\n      <th>2</th>\n      <td>3</td>\n      <td>Grumpier Old Men</td>\n      <td>0</td>\n      <td>0</td>\n      <td>0</td>\n      <td>0</td>\n      <td>1</td>\n      <td>0</td>\n      <td>0</td>\n      <td>0</td>\n      <td>...</td>\n      <td>0</td>\n      <td>0</td>\n      <td>0</td>\n      <td>1</td>\n      <td>0</td>\n      <td>0</td>\n      <td>0</td>\n      <td>0</td>\n      <td>0</td>\n      <td>1995</td>\n    </tr>\n    <tr>\n      <th>3</th>\n      <td>4</td>\n      <td>Waiting to Exhale</td>\n      <td>0</td>\n      <td>0</td>\n      <td>0</td>\n      <td>0</td>\n      <td>1</td>\n      <td>0</td>\n      <td>0</td>\n      <td>0</td>\n      <td>...</td>\n      <td>0</td>\n      <td>0</td>\n      <td>0</td>\n      <td>1</td>\n      <td>0</td>\n      <td>0</td>\n      <td>0</td>\n      <td>0</td>\n      <td>0</td>\n      <td>1995</td>\n    </tr>\n    <tr>\n      <th>4</th>\n      <td>5</td>\n      <td>Father of the Bride Part II</td>\n      <td>0</td>\n      <td>0</td>\n      <td>0</td>\n      <td>0</td>\n      <td>1</td>\n      <td>0</td>\n      <td>0</td>\n      <td>0</td>\n      <td>...</td>\n      <td>0</td>\n      <td>0</td>\n      <td>0</td>\n      <td>0</td>\n      <td>0</td>\n      <td>0</td>\n      <td>0</td>\n      <td>0</td>\n      <td>0</td>\n      <td>1995</td>\n    </tr>\n  </tbody>\n</table>\n<p>5 rows × 23 columns</p>\n</div>",
      "text/plain": "   movieId                        title  Adventure  Horror  Film-Noir  Action  \\\n0        1                    Toy Story          1       0          0       0   \n1        2                      Jumanji          1       0          0       0   \n2        3             Grumpier Old Men          0       0          0       0   \n3        4            Waiting to Exhale          0       0          0       0   \n4        5  Father of the Bride Part II          0       0          0       0   \n\n   Comedy  Western  Fantasy  IMAX  ...  Animation  NA  Mystery  Romance  War  \\\n0       1        0        1     0  ...          1   0        0        0    0   \n1       0        0        1     0  ...          0   0        0        0    0   \n2       1        0        0     0  ...          0   0        0        1    0   \n3       1        0        0     0  ...          0   0        0        1    0   \n4       1        0        0     0  ...          0   0        0        0    0   \n\n   Sci-Fi  Children  Crime  Thriller  year  \n0       0         1      0         0  1995  \n1       0         1      0         0  1995  \n2       0         0      0         0  1995  \n3       0         0      0         0  1995  \n4       0         0      0         0  1995  \n\n[5 rows x 23 columns]"
     },
     "execution_count": 8,
     "metadata": {},
     "output_type": "execute_result"
    }
   ],
   "source": [
    "import re\n",
    "movies = df['movie'].replace({'(no genres listed)':'NA'})\n",
    "for genre in genres:\n",
    "    movies[genre] = 0\n",
    "    movies.loc[movies.genres.str.contains(genre), genre] = 1\n",
    "movies['year'] = movies.title.apply(lambda x: re.findall('\\((\\d{4})\\)', x)[0] if len(re.findall('\\((\\d{4})\\)', x))>0 else '0')\n",
    "movies.title = movies.title.apply(lambda x: x[:-7])\n",
    "movies = movies.drop(['genres'], axis=1)\n",
    "movies.head()"
   ]
  },
  {
   "cell_type": "code",
   "execution_count": 9,
   "metadata": {},
   "outputs": [
    {
     "data": {
      "text/plain": "Adventure       2329\nHorror          2611\nFilm-Noir        330\nAction          3520\nComedy          8374\nWestern          676\nFantasy         1412\nIMAX             196\nDrama          13344\nMusical         1036\nDocumentary     2471\nAnimation       1027\nNA               246\nMystery         1514\nRomance         4127\nWar             1194\nSci-Fi          1743\nChildren        1139\nCrime           2939\nThriller        4178\ndtype: int64"
     },
     "execution_count": 9,
     "metadata": {},
     "output_type": "execute_result"
    }
   ],
   "source": [
    "movies.iloc[:,2:-1].sum()"
   ]
  },
  {
   "cell_type": "code",
   "execution_count": 10,
   "metadata": {},
   "outputs": [
    {
     "data": {
      "text/plain": "0         22\n1891       1\n1893       1\n1894       2\n1895       2\n        ... \n2011    1016\n2012    1022\n2013    1011\n2014     740\n2015     120\nName: year, Length: 119, dtype: int64"
     },
     "execution_count": 10,
     "metadata": {},
     "output_type": "execute_result"
    }
   ],
   "source": [
    "movies.year.value_counts().sort_index()"
   ]
  },
  {
   "cell_type": "code",
   "execution_count": 20,
   "metadata": {},
   "outputs": [
    {
     "data": {
      "text/html": "<div>\n<style scoped>\n    .dataframe tbody tr th:only-of-type {\n        vertical-align: middle;\n    }\n\n    .dataframe tbody tr th {\n        vertical-align: top;\n    }\n\n    .dataframe thead th {\n        text-align: right;\n    }\n</style>\n<table border=\"1\" class=\"dataframe\">\n  <thead>\n    <tr style=\"text-align: right;\">\n      <th></th>\n      <th>movieId</th>\n      <th>mean</th>\n      <th>count</th>\n      <th>sum</th>\n      <th>title</th>\n      <th>Adventure</th>\n      <th>Horror</th>\n      <th>Film-Noir</th>\n      <th>Action</th>\n      <th>Comedy</th>\n      <th>...</th>\n      <th>Animation</th>\n      <th>NA</th>\n      <th>Mystery</th>\n      <th>Romance</th>\n      <th>War</th>\n      <th>Sci-Fi</th>\n      <th>Children</th>\n      <th>Crime</th>\n      <th>Thriller</th>\n      <th>year</th>\n    </tr>\n  </thead>\n  <tbody>\n    <tr>\n      <th>0</th>\n      <td>105390</td>\n      <td>0.500000</td>\n      <td>1</td>\n      <td>0.5</td>\n      <td>Rabid Grannies (Mémés cannibales, Les)</td>\n      <td>0</td>\n      <td>1</td>\n      <td>0</td>\n      <td>0</td>\n      <td>1</td>\n      <td>...</td>\n      <td>0</td>\n      <td>0</td>\n      <td>0</td>\n      <td>0</td>\n      <td>0</td>\n      <td>0</td>\n      <td>0</td>\n      <td>0</td>\n      <td>0</td>\n      <td>1988</td>\n    </tr>\n    <tr>\n      <th>1</th>\n      <td>105481</td>\n      <td>0.500000</td>\n      <td>1</td>\n      <td>0.5</td>\n      <td>Blood Shack</td>\n      <td>0</td>\n      <td>1</td>\n      <td>0</td>\n      <td>0</td>\n      <td>0</td>\n      <td>...</td>\n      <td>0</td>\n      <td>0</td>\n      <td>0</td>\n      <td>0</td>\n      <td>0</td>\n      <td>0</td>\n      <td>0</td>\n      <td>0</td>\n      <td>0</td>\n      <td>1971</td>\n    </tr>\n    <tr>\n      <th>2</th>\n      <td>121463</td>\n      <td>0.500000</td>\n      <td>1</td>\n      <td>0.5</td>\n      <td>The End</td>\n      <td>0</td>\n      <td>0</td>\n      <td>0</td>\n      <td>0</td>\n      <td>0</td>\n      <td>...</td>\n      <td>0</td>\n      <td>0</td>\n      <td>0</td>\n      <td>0</td>\n      <td>0</td>\n      <td>1</td>\n      <td>0</td>\n      <td>0</td>\n      <td>1</td>\n      <td>2012</td>\n    </tr>\n    <tr>\n      <th>3</th>\n      <td>121467</td>\n      <td>0.500000</td>\n      <td>1</td>\n      <td>0.5</td>\n      <td>Shark Attack</td>\n      <td>0</td>\n      <td>1</td>\n      <td>0</td>\n      <td>1</td>\n      <td>0</td>\n      <td>...</td>\n      <td>0</td>\n      <td>0</td>\n      <td>0</td>\n      <td>0</td>\n      <td>0</td>\n      <td>0</td>\n      <td>0</td>\n      <td>0</td>\n      <td>0</td>\n      <td>1999</td>\n    </tr>\n    <tr>\n      <th>4</th>\n      <td>129885</td>\n      <td>0.500000</td>\n      <td>1</td>\n      <td>0.5</td>\n      <td>Le ultime ore di una vergine</td>\n      <td>0</td>\n      <td>0</td>\n      <td>0</td>\n      <td>0</td>\n      <td>0</td>\n      <td>...</td>\n      <td>0</td>\n      <td>1</td>\n      <td>0</td>\n      <td>0</td>\n      <td>0</td>\n      <td>0</td>\n      <td>0</td>\n      <td>0</td>\n      <td>0</td>\n      <td>1972</td>\n    </tr>\n    <tr>\n      <th>...</th>\n      <td>...</td>\n      <td>...</td>\n      <td>...</td>\n      <td>...</td>\n      <td>...</td>\n      <td>...</td>\n      <td>...</td>\n      <td>...</td>\n      <td>...</td>\n      <td>...</td>\n      <td>...</td>\n      <td>...</td>\n      <td>...</td>\n      <td>...</td>\n      <td>...</td>\n      <td>...</td>\n      <td>...</td>\n      <td>...</td>\n      <td>...</td>\n      <td>...</td>\n      <td>...</td>\n    </tr>\n    <tr>\n      <th>26739</th>\n      <td>260</td>\n      <td>4.190672</td>\n      <td>54502</td>\n      <td>228400.0</td>\n      <td>Star Wars: Episode IV - A New Hope</td>\n      <td>1</td>\n      <td>0</td>\n      <td>0</td>\n      <td>1</td>\n      <td>0</td>\n      <td>...</td>\n      <td>0</td>\n      <td>0</td>\n      <td>0</td>\n      <td>0</td>\n      <td>0</td>\n      <td>1</td>\n      <td>0</td>\n      <td>0</td>\n      <td>0</td>\n      <td>1977</td>\n    </tr>\n    <tr>\n      <th>26740</th>\n      <td>593</td>\n      <td>4.177057</td>\n      <td>63299</td>\n      <td>264403.5</td>\n      <td>Silence of the Lambs, The</td>\n      <td>0</td>\n      <td>1</td>\n      <td>0</td>\n      <td>0</td>\n      <td>0</td>\n      <td>...</td>\n      <td>0</td>\n      <td>0</td>\n      <td>0</td>\n      <td>0</td>\n      <td>0</td>\n      <td>0</td>\n      <td>0</td>\n      <td>1</td>\n      <td>1</td>\n      <td>1991</td>\n    </tr>\n    <tr>\n      <th>26741</th>\n      <td>356</td>\n      <td>4.029000</td>\n      <td>66172</td>\n      <td>266607.0</td>\n      <td>Forrest Gump</td>\n      <td>0</td>\n      <td>0</td>\n      <td>0</td>\n      <td>0</td>\n      <td>1</td>\n      <td>...</td>\n      <td>0</td>\n      <td>0</td>\n      <td>0</td>\n      <td>1</td>\n      <td>1</td>\n      <td>0</td>\n      <td>0</td>\n      <td>0</td>\n      <td>0</td>\n      <td>1994</td>\n    </tr>\n    <tr>\n      <th>26742</th>\n      <td>296</td>\n      <td>4.174231</td>\n      <td>67310</td>\n      <td>280967.5</td>\n      <td>Pulp Fiction</td>\n      <td>0</td>\n      <td>0</td>\n      <td>0</td>\n      <td>0</td>\n      <td>1</td>\n      <td>...</td>\n      <td>0</td>\n      <td>0</td>\n      <td>0</td>\n      <td>0</td>\n      <td>0</td>\n      <td>0</td>\n      <td>0</td>\n      <td>1</td>\n      <td>1</td>\n      <td>1994</td>\n    </tr>\n    <tr>\n      <th>26743</th>\n      <td>318</td>\n      <td>4.446990</td>\n      <td>63366</td>\n      <td>281788.0</td>\n      <td>Shawshank Redemption, The</td>\n      <td>0</td>\n      <td>0</td>\n      <td>0</td>\n      <td>0</td>\n      <td>0</td>\n      <td>...</td>\n      <td>0</td>\n      <td>0</td>\n      <td>0</td>\n      <td>0</td>\n      <td>0</td>\n      <td>0</td>\n      <td>0</td>\n      <td>1</td>\n      <td>0</td>\n      <td>1994</td>\n    </tr>\n  </tbody>\n</table>\n<p>26744 rows × 26 columns</p>\n</div>",
      "text/plain": "       movieId      mean  count       sum  \\\n0       105390  0.500000      1       0.5   \n1       105481  0.500000      1       0.5   \n2       121463  0.500000      1       0.5   \n3       121467  0.500000      1       0.5   \n4       129885  0.500000      1       0.5   \n...        ...       ...    ...       ...   \n26739      260  4.190672  54502  228400.0   \n26740      593  4.177057  63299  264403.5   \n26741      356  4.029000  66172  266607.0   \n26742      296  4.174231  67310  280967.5   \n26743      318  4.446990  63366  281788.0   \n\n                                        title  Adventure  Horror  Film-Noir  \\\n0      Rabid Grannies (Mémés cannibales, Les)          0       1          0   \n1                                 Blood Shack          0       1          0   \n2                                     The End          0       0          0   \n3                                Shark Attack          0       1          0   \n4                Le ultime ore di una vergine          0       0          0   \n...                                       ...        ...     ...        ...   \n26739      Star Wars: Episode IV - A New Hope          1       0          0   \n26740               Silence of the Lambs, The          0       1          0   \n26741                            Forrest Gump          0       0          0   \n26742                            Pulp Fiction          0       0          0   \n26743               Shawshank Redemption, The          0       0          0   \n\n       Action  Comedy  ...  Animation  NA  Mystery  Romance  War  Sci-Fi  \\\n0           0       1  ...          0   0        0        0    0       0   \n1           0       0  ...          0   0        0        0    0       0   \n2           0       0  ...          0   0        0        0    0       1   \n3           1       0  ...          0   0        0        0    0       0   \n4           0       0  ...          0   1        0        0    0       0   \n...       ...     ...  ...        ...  ..      ...      ...  ...     ...   \n26739       1       0  ...          0   0        0        0    0       1   \n26740       0       0  ...          0   0        0        0    0       0   \n26741       0       1  ...          0   0        0        1    1       0   \n26742       0       1  ...          0   0        0        0    0       0   \n26743       0       0  ...          0   0        0        0    0       0   \n\n       Children  Crime  Thriller  year  \n0             0      0         0  1988  \n1             0      0         0  1971  \n2             0      0         1  2012  \n3             0      0         0  1999  \n4             0      0         0  1972  \n...         ...    ...       ...   ...  \n26739         0      0         0  1977  \n26740         0      1         1  1991  \n26741         0      0         0  1994  \n26742         0      1         1  1994  \n26743         0      1         0  1994  \n\n[26744 rows x 26 columns]"
     },
     "execution_count": 20,
     "metadata": {},
     "output_type": "execute_result"
    }
   ],
   "source": [
    "user_ratings.groupby('movieId').rating.agg(['mean','count','sum']).sort_values(by=['sum']).merge(movies, on='movieId')"
   ]
  },
  {
   "cell_type": "code",
   "execution_count": 30,
   "metadata": {},
   "outputs": [],
   "source": [
    "# user_ratings.pivot(index='movieId', columns='userId', values='rating').head()"
   ]
  },
  {
   "cell_type": "code",
   "execution_count": null,
   "metadata": {},
   "outputs": [],
   "source": []
  }
 ]
}